{
 "cells": [
  {
   "cell_type": "markdown",
   "metadata": {},
   "source": [
    "# ipyannotator\n",
    "\n",
    "> the infinitely hackable annotation framework.\n"
   ]
  },
  {
   "cell_type": "markdown",
   "metadata": {},
   "source": [
    "## Install"
   ]
  },
  {
   "cell_type": "markdown",
   "metadata": {},
   "source": [
    "`pip install your_project_name`"
   ]
  },
  {
   "cell_type": "markdown",
   "metadata": {},
   "source": [
    "## How to use"
   ]
  },
  {
   "cell_type": "markdown",
   "metadata": {},
   "source": [
    "Fill me in please! Don't forget code examples!\n"
   ]
  }
 ],
 "metadata": {
  "kernelspec": {
   "display_name": "ipyannotator_env_local",
   "language": "python",
   "name": "ipyannotator_env_local"
  }
 },
 "nbformat": 4,
 "nbformat_minor": 2
}
